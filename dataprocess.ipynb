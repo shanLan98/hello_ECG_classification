{
 "cells": [
  {
   "cell_type": "code",
   "execution_count": 1,
   "outputs": [],
   "source": [
    "import matplotlib.pyplot as plt\n",
    "from keras.callbacks import ModelCheckpoint\n",
    "import pandas as pd\n",
    "import scipy.io as sio\n",
    "from os import listdir\n",
    "from os.path import isfile, join\n",
    "import numpy as np\n",
    "import keras\n",
    "from keras.models import Sequential\n",
    "from keras.layers import Dense, Activation, Dropout, Conv1D, GlobalAveragePooling1D, MaxPooling1D\n",
    "from keras import regularizers, layers\n",
    "from keras.utils import np_utils\n",
    "import csv"
   ],
   "metadata": {
    "collapsed": false,
    "pycharm": {
     "name": "#%%\n"
    }
   }
  },
  {
   "cell_type": "markdown",
   "source": [
    "some model's para"
   ],
   "metadata": {
    "collapsed": false,
    "pycharm": {
     "name": "#%% md\n"
    }
   }
  },
  {
   "cell_type": "code",
   "execution_count": 2,
   "metadata": {
    "collapsed": true,
    "pycharm": {
     "name": "#%%\n"
    }
   },
   "outputs": [],
   "source": [
    "number_of_classes = 4\n",
    "inputsize = 3050\n",
    "split = 0.9\n",
    "mypath = 'training2017/'"
   ]
  },
  {
   "cell_type": "markdown",
   "source": [
    "load data"
   ],
   "metadata": {
    "collapsed": false,
    "pycharm": {
     "name": "#%% md\n"
    }
   }
  },
  {
   "cell_type": "code",
   "execution_count": 3,
   "outputs": [
    {
     "name": "stdout",
     "output_type": "stream",
     "text": [
      "Total training size is  8528\n"
     ]
    }
   ],
   "source": [
    "xdata = [f for f in listdir(mypath) if (isfile(join(mypath, f)) and f[0] == 'A' and f[7] == 'm')]\n",
    "f = open(mypath+'REFERENCE.csv','r')\n",
    "reader = csv.reader(f)\n",
    "ydata = np.array(list(reader))\n",
    "ydata = ydata[:, 1]\n",
    "size = len(xdata)\n",
    "print('Total training size is ', size)"
   ],
   "metadata": {
    "collapsed": false,
    "pycharm": {
     "name": "#%%\n"
    }
   }
  },
  {
   "cell_type": "markdown",
   "source": [
    "x_set"
   ],
   "metadata": {
    "collapsed": false,
    "pycharm": {
     "name": "#%% md\n"
    }
   }
  },
  {
   "cell_type": "code",
   "execution_count": 5,
   "outputs": [],
   "source": [
    "x_set = np.zeros((size,inputsize))\n",
    "\n",
    "for i in range(0, size):\n",
    "    x = sio.loadmat(mypath+xdata[i])['val'][0]\n",
    "    while(len(x)<inputsize):\n",
    "            x = np.hstack((x, x))\n",
    "    x_set[i] = x[:inputsize]\n",
    "x_set = (x_set - x_set.mean()) / (x_set.std())\n",
    "\n",
    "x_train = x_set[:, :int(split * size)]\n",
    "x_val = x_set[:, int(split * size):]"
   ],
   "metadata": {
    "collapsed": false,
    "pycharm": {
     "name": "#%%\n"
    }
   }
  },
  {
   "cell_type": "markdown",
   "source": [
    "y_set"
   ],
   "metadata": {
    "collapsed": false,
    "pycharm": {
     "name": "#%% md\n"
    }
   }
  },
  {
   "cell_type": "code",
   "execution_count": 6,
   "outputs": [],
   "source": [
    "y_set = np.zeros((size, 1))\n",
    "for i in range(0, size):\n",
    "    if ydata[i] == 'N':\n",
    "        y_set[i] = 0\n",
    "    elif ydata[i] == 'A':\n",
    "        y_set[i] = 1\n",
    "    elif ydata[i] == 'O':\n",
    "        y_set[i] = 2\n",
    "    else:\n",
    "        y_set[i] = 3\n",
    "y_set = keras.utils.np_utils.to_categorical(y_set)"
   ],
   "metadata": {
    "collapsed": false,
    "pycharm": {
     "name": "#%%\n"
    }
   }
  },
  {
   "cell_type": "code",
   "execution_count": 13,
   "outputs": [
    {
     "name": "stdout",
     "output_type": "stream",
     "text": [
      "[[1. 0. 0. 0.]\n",
      " [1. 0. 0. 0.]\n",
      " [1. 0. 0. 0.]\n",
      " [0. 1. 0. 0.]\n",
      " [0. 1. 0. 0.]\n",
      " [1. 0. 0. 0.]\n",
      " [1. 0. 0. 0.]]\n"
     ]
    }
   ],
   "source": [
    "print(y_set[0:7])"
   ],
   "metadata": {
    "collapsed": false,
    "pycharm": {
     "name": "#%%\n"
    }
   }
  },
  {
   "cell_type": "code",
   "execution_count": 81,
   "outputs": [],
   "source": [
    "values = [i for i in range(size)]\n",
    "permutations = np.random.permutation(values)\n",
    "x_set = x_set[permutations, :]\n",
    "y_set = y_set[permutations, :]\n",
    "\n",
    "x_train = x_set[:int(split * size), :]\n",
    "y_train = y_set[:int(split * size), :]\n",
    "x_val = x_set[int(split * size):, :]\n",
    "y_val = y_set[int(split * size):, :]\n",
    "x_set = x_set[permutations, :]\n",
    "y_set = y_set[permutations, :]"
   ],
   "metadata": {
    "collapsed": false,
    "pycharm": {
     "name": "#%%\n"
    }
   }
  },
  {
   "cell_type": "code",
   "execution_count": null,
   "outputs": [],
   "source": [],
   "metadata": {
    "collapsed": false,
    "pycharm": {
     "name": "#%%\n"
    }
   }
  }
 ],
 "metadata": {
  "kernelspec": {
   "display_name": "Python 3",
   "language": "python",
   "name": "python3"
  },
  "language_info": {
   "codemirror_mode": {
    "name": "ipython",
    "version": 2
   },
   "file_extension": ".py",
   "mimetype": "text/x-python",
   "name": "python",
   "nbconvert_exporter": "python",
   "pygments_lexer": "ipython2",
   "version": "2.7.6"
  }
 },
 "nbformat": 4,
 "nbformat_minor": 0
}