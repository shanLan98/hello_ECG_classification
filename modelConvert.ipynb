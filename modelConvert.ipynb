{
 "cells": [
  {
   "cell_type": "code",
   "execution_count": 2,
   "outputs": [],
   "source": [
    "import tensorflow as tf"
   ],
   "metadata": {
    "collapsed": false,
    "pycharm": {
     "name": "#%%\n"
    }
   }
  },
  {
   "cell_type": "code",
   "execution_count": 16,
   "metadata": {
    "collapsed": true,
    "pycharm": {
     "name": "#%%\n"
    }
   },
   "outputs": [],
   "source": [
    "model = tf.lite.Interpreter(model_path='./pruningMLPModel_quantized.tflite')\n"
   ]
  },
  {
   "cell_type": "code",
   "execution_count": 17,
   "outputs": [],
   "source": [
    "model.allocate_tensors()"
   ],
   "metadata": {
    "collapsed": false,
    "pycharm": {
     "name": "#%%\n"
    }
   }
  },
  {
   "cell_type": "code",
   "execution_count": 18,
   "outputs": [
    {
     "data": {
      "text/plain": "[{'name': 'serving_default_dense_44_input:0',\n  'index': 0,\n  'shape': array([  1, 187]),\n  'shape_signature': array([ -1, 187]),\n  'dtype': numpy.float32,\n  'quantization': (0.0, 0),\n  'quantization_parameters': {'scales': array([], dtype=float32),\n   'zero_points': array([], dtype=int32),\n   'quantized_dimension': 0},\n  'sparsity_parameters': {}},\n {'name': 'sequential_15/dense_46/BiasAdd/ReadVariableOp',\n  'index': 1,\n  'shape': array([5]),\n  'shape_signature': array([5]),\n  'dtype': numpy.int32,\n  'quantization': (0.0027798141818493605, 0),\n  'quantization_parameters': {'scales': array([0.00277981], dtype=float32),\n   'zero_points': array([0]),\n   'quantized_dimension': 0},\n  'sparsity_parameters': {}},\n {'name': 'sequential_15/dense_46/MatMul',\n  'index': 2,\n  'shape': array([ 5, 30]),\n  'shape_signature': array([ 5, 30]),\n  'dtype': numpy.int8,\n  'quantization': (0.029650254175066948, 0),\n  'quantization_parameters': {'scales': array([0.02965025], dtype=float32),\n   'zero_points': array([0]),\n   'quantized_dimension': 0},\n  'sparsity_parameters': {}},\n {'name': 'sequential_15/dense_45/BiasAdd/ReadVariableOp',\n  'index': 3,\n  'shape': array([30]),\n  'shape_signature': array([30]),\n  'dtype': numpy.int32,\n  'quantization': (0.0008021711255423725, 0),\n  'quantization_parameters': {'scales': array([0.00080217], dtype=float32),\n   'zero_points': array([0]),\n   'quantized_dimension': 0},\n  'sparsity_parameters': {}},\n {'name': 'sequential_15/dense_45/MatMul',\n  'index': 4,\n  'shape': array([ 30, 128]),\n  'shape_signature': array([ 30, 128]),\n  'dtype': numpy.int8,\n  'quantization': (0.02487238310277462, 0),\n  'quantization_parameters': {'scales': array([0.02487238], dtype=float32),\n   'zero_points': array([0]),\n   'quantized_dimension': 0},\n  'sparsity_parameters': {}},\n {'name': 'sequential_15/dense_44/BiasAdd/ReadVariableOp',\n  'index': 5,\n  'shape': array([128]),\n  'shape_signature': array([128]),\n  'dtype': numpy.int32,\n  'quantization': (0.00015183004143182188, 0),\n  'quantization_parameters': {'scales': array([0.00015183], dtype=float32),\n   'zero_points': array([0]),\n   'quantized_dimension': 0},\n  'sparsity_parameters': {}},\n {'name': 'sequential_15/dense_44/MatMul',\n  'index': 6,\n  'shape': array([128, 187]),\n  'shape_signature': array([128, 187]),\n  'dtype': numpy.int8,\n  'quantization': (0.03871665894985199, 0),\n  'quantization_parameters': {'scales': array([0.03871666], dtype=float32),\n   'zero_points': array([0]),\n   'quantized_dimension': 0},\n  'sparsity_parameters': {}},\n {'name': 'tfl.quantize',\n  'index': 7,\n  'shape': array([  1, 187]),\n  'shape_signature': array([ -1, 187]),\n  'dtype': numpy.int8,\n  'quantization': (0.003921568859368563, -128),\n  'quantization_parameters': {'scales': array([0.00392157], dtype=float32),\n   'zero_points': array([-128]),\n   'quantized_dimension': 0},\n  'sparsity_parameters': {}},\n {'name': 'sequential_15/dense_44/MatMul;sequential_15/dense_44/Relu;sequential_15/dense_44/BiasAdd',\n  'index': 8,\n  'shape': array([  1, 128]),\n  'shape_signature': array([ -1, 128]),\n  'dtype': numpy.int8,\n  'quantization': (0.03225147724151611, -128),\n  'quantization_parameters': {'scales': array([0.03225148], dtype=float32),\n   'zero_points': array([-128]),\n   'quantized_dimension': 0},\n  'sparsity_parameters': {}},\n {'name': 'sequential_15/dense_45/MatMul;sequential_15/dense_45/Relu;sequential_15/dense_45/BiasAdd',\n  'index': 9,\n  'shape': array([ 1, 30]),\n  'shape_signature': array([-1, 30]),\n  'dtype': numpy.int8,\n  'quantization': (0.09375347197055817, -128),\n  'quantization_parameters': {'scales': array([0.09375347], dtype=float32),\n   'zero_points': array([-128]),\n   'quantized_dimension': 0},\n  'sparsity_parameters': {}},\n {'name': 'StatefulPartitionedCall:01',\n  'index': 10,\n  'shape': array([1, 5]),\n  'shape_signature': array([-1,  5]),\n  'dtype': numpy.int8,\n  'quantization': (0.6612451672554016, 55),\n  'quantization_parameters': {'scales': array([0.66124517], dtype=float32),\n   'zero_points': array([55]),\n   'quantized_dimension': 0},\n  'sparsity_parameters': {}},\n {'name': 'StatefulPartitionedCall:0',\n  'index': 11,\n  'shape': array([1, 5]),\n  'shape_signature': array([-1,  5]),\n  'dtype': numpy.float32,\n  'quantization': (0.0, 0),\n  'quantization_parameters': {'scales': array([], dtype=float32),\n   'zero_points': array([], dtype=int32),\n   'quantized_dimension': 0},\n  'sparsity_parameters': {}}]"
     },
     "execution_count": 18,
     "metadata": {},
     "output_type": "execute_result"
    }
   ],
   "source": [
    "model.get_tensor_details()"
   ],
   "metadata": {
    "collapsed": false,
    "pycharm": {
     "name": "#%%\n"
    }
   }
  },
  {
   "cell_type": "code",
   "execution_count": 25,
   "outputs": [],
   "source": [
    "tensor = model.get_tensor(6)"
   ],
   "metadata": {
    "collapsed": false,
    "pycharm": {
     "name": "#%%\n"
    }
   }
  },
  {
   "cell_type": "code",
   "execution_count": 31,
   "outputs": [
    {
     "name": "stdout",
     "output_type": "stream",
     "text": [
      "[ -9  -7   9   6   4   0   7  12   9   0 -13  -7  -5   0  -8  -6   0  -4\n",
      "   0   3   0   0   0   0  -4   0   0   4   0   0   9   8   6   0  10   6\n",
      "   0   6   0  -4  -3   4   0  -6  -7   0   0   0   0   0  -4  -4   0   7\n",
      "   3   0   0  -2   0   0   0   5   0  -4   0   0   0  11   0   0   0  -3\n",
      "   0   0   2   0   0   0   0   0   0   0   0   0   0   0   0   0   3   9\n",
      "   0   7   0   0   7   0  -3   0  -3   7   0   4   0  -3   0   3   0   0\n",
      "   9   0  10   7   0   0   0 -10   0   0   0   0   0  -7   0   0   0   5\n",
      "   0   0   0   0   0   4   0   2   0   0   0   0   0   5   7   0  -5   0\n",
      "   0   0   0   0   4   2  -5   0  -2   0  -4   0   0   0   0   4   0   0\n",
      "  -4  -4   0   0   0  -6   0 -11  -8   0   0   0  -9   0   0   0   0   0\n",
      "   0   0   0   0   0   0   2]\n"
     ]
    }
   ],
   "source": [
    "print(tensor[0])"
   ],
   "metadata": {
    "collapsed": false,
    "pycharm": {
     "name": "#%%\n"
    }
   }
  },
  {
   "cell_type": "code",
   "execution_count": 8,
   "outputs": [],
   "source": [],
   "metadata": {
    "collapsed": false,
    "pycharm": {
     "name": "#%%\n"
    }
   }
  }
 ],
 "metadata": {
  "kernelspec": {
   "display_name": "Python 3",
   "language": "python",
   "name": "python3"
  },
  "language_info": {
   "codemirror_mode": {
    "name": "ipython",
    "version": 2
   },
   "file_extension": ".py",
   "mimetype": "text/x-python",
   "name": "python",
   "nbconvert_exporter": "python",
   "pygments_lexer": "ipython2",
   "version": "2.7.6"
  }
 },
 "nbformat": 4,
 "nbformat_minor": 0
}